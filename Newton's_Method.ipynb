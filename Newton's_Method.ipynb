{
  "nbformat": 4,
  "nbformat_minor": 0,
  "metadata": {
    "colab": {
      "name": "Newton's Method.ipynb",
      "provenance": [],
      "collapsed_sections": []
    },
    "kernelspec": {
      "name": "python3",
      "display_name": "Python 3"
    }
  },
  "cells": [
    {
      "cell_type": "markdown",
      "metadata": {
        "id": "Zq573PkSimNT",
        "colab_type": "text"
      },
      "source": [
        "# Newton's Method"
      ]
    },
    {
      "cell_type": "code",
      "metadata": {
        "id": "cB7q9_NWiksT",
        "colab_type": "code",
        "colab": {}
      },
      "source": [
        "from sympy import *\n",
        "x=symbols('x')\n",
        "f=eval(input())\n",
        "fd=f.diff(x)\n",
        "a=int(input(\"Initial value: \"))\n",
        "tolerance=float(input(\"tolerance: \"))\n",
        "cnt=0\n",
        "\n",
        "# find approximated value with Newton method\n",
        "while True:\n",
        "  tmp=a-(f.subs(x,a)/fd.subs(x,a))\n",
        "  cnt+=1\n",
        "  if(abs(tmp-a)<tolerance):\n",
        "    break\n",
        "  a=tmp\n",
        "\n",
        "app_sol=N(tmp)\n",
        "sol=N(solve(f,x)[0]) # solve(f,x)[0] is the smallest solution in the solution set of f=0\n",
        "print(\"approximated value is {}\".format(app_sol))\n",
        "print(\"Real solution of the equation is {}\".format(sol))\n",
        "print(\"Gap between approximated value and real value is {}\".format(abs(app_sol-sol)))\n",
        "print(\"The number of iterations:\",cnt)"
      ],
      "execution_count": 0,
      "outputs": []
    }
  ]
}