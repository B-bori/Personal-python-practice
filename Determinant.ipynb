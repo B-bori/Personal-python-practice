{
  "nbformat": 4,
  "nbformat_minor": 0,
  "metadata": {
    "colab": {
      "name": "Determinant.ipynb",
      "provenance": [],
      "collapsed_sections": [],
      "authorship_tag": "ABX9TyObHnm3BofsmOM+2QvuAnGF",
      "include_colab_link": true
    },
    "kernelspec": {
      "name": "python3",
      "display_name": "Python 3"
    }
  },
  "cells": [
    {
      "cell_type": "markdown",
      "metadata": {
        "id": "view-in-github",
        "colab_type": "text"
      },
      "source": [
        "<a href=\"https://colab.research.google.com/github/B-bori/Personal-python-practice/blob/master/Determinant.ipynb\" target=\"_parent\"><img src=\"https://colab.research.google.com/assets/colab-badge.svg\" alt=\"Open In Colab\"/></a>"
      ]
    },
    {
      "cell_type": "code",
      "metadata": {
        "id": "2VyQ0RJ4SaEk",
        "colab_type": "code",
        "colab": {
          "base_uri": "https://localhost:8080/",
          "height": 141
        },
        "outputId": "ced86019-e9a5-47d6-990c-baa13db38126"
      },
      "source": [
        "import numpy as np \n",
        "from io import StringIO\n",
        "\n",
        "\n",
        "\n",
        "''' Input matrix '''\n",
        "\n",
        "n = int(input())\n",
        "print()\n",
        "\n",
        "M = ''\n",
        "for i in range(n):\n",
        "  M += input()\n",
        "  M += '\\n'\n",
        "\n",
        "print()\n",
        "\n",
        "M = StringIO(M)\n",
        "M = np.loadtxt(M)\n",
        "\n",
        "\n",
        "\n",
        "''' Determinant '''\n",
        " \n",
        "def determinant(M):      \n",
        "  if(M.shape[0]==2):\n",
        "    D = M[0][0]*M[1][1] - M[0][1]*M[1][0]\n",
        "    return D\n",
        "  \n",
        "  else:\n",
        "    D = 0\n",
        "    for i in range(M.shape[0]):\n",
        "      for k in range(1,M.shape[0]):\n",
        "        tmp = []\n",
        "        for j in range(M.shape[0]):\n",
        "          if (j!=i):\n",
        "            tmp.append(M[k][j])\n",
        "        tmp = np.array(tmp)\n",
        "        if (k==1):\n",
        "          ret = tmp\n",
        "        else:\n",
        "          ret = np.vstack([ret, tmp]) \n",
        "  \n",
        "      if (i%2 == 0):\n",
        "        D += M[0][i] * determinant(ret)\n",
        "      else:\n",
        "        D -= M[0][i] * determinant(ret)\n",
        "\n",
        "    return D\n",
        "  \n",
        "print(determinant(M))"
      ],
      "execution_count": 61,
      "outputs": [
        {
          "output_type": "stream",
          "text": [
            "3\n",
            "\n",
            "1 0 0\n",
            "0 2 0\n",
            "0 0 3\n",
            "\n",
            "6.0\n"
          ],
          "name": "stdout"
        }
      ]
    }
  ]
}