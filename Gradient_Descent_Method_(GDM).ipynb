{
  "nbformat": 4,
  "nbformat_minor": 0,
  "metadata": {
    "colab": {
      "name": "Gradient Descent Method (GDM).ipynb",
      "provenance": [],
      "collapsed_sections": [],
      "authorship_tag": "ABX9TyOxVO+pRszYq3v/SQwBU2HH",
      "include_colab_link": true
    },
    "kernelspec": {
      "name": "python3",
      "display_name": "Python 3"
    }
  },
  "cells": [
    {
      "cell_type": "markdown",
      "metadata": {
        "id": "view-in-github",
        "colab_type": "text"
      },
      "source": [
        "<a href=\"https://colab.research.google.com/github/B-bori/Personal-python-practice/blob/master/Gradient_Descent_Method_(GDM).ipynb\" target=\"_parent\"><img src=\"https://colab.research.google.com/assets/colab-badge.svg\" alt=\"Open In Colab\"/></a>"
      ]
    },
    {
      "cell_type": "code",
      "metadata": {
        "id": "wruhRiuXkV8L",
        "colab_type": "code",
        "colab": {
          "base_uri": "https://localhost:8080/",
          "height": 221
        },
        "outputId": "42680802-412e-44eb-e47e-fbbc6cbf47ee"
      },
      "source": [
        "# 아이디어 제공 및 코드 작성 도움 from 서진이형\n",
        "\n",
        "from sympy import *\n",
        "from numpy import array\n",
        "\n",
        "n = int(input(\"n: \"))\n",
        "f = input(\"f: \")\n",
        "print()\n",
        "r = float(input(\"stepsize: \")) # r is stepsize\n",
        "tol = float(input(\"tolerance: \"))\n",
        "print()\n",
        "\n",
        "def gradient(f):\n",
        "  array = [0]*n\n",
        "  for i in range(n):\n",
        "    array[i] = diff(f,Symbol('x'+str(i+1)))\n",
        "  return array\n",
        "\n",
        "def GD(f,r): \n",
        "  A = [0]*n\n",
        "  B = [0]*n\n",
        "  print('initial value')\n",
        "  for i in range(n):\n",
        "    A[i] = float(input(\"x\"+str(i+1)+\": \"))\n",
        "    B[i] = Symbol('x'+str(i+1))\n",
        "  print()\n",
        "\n",
        "  while True:\n",
        "    \n",
        "    cnt = 0\n",
        "\n",
        "    for j in range(n):\n",
        "      A[j] -= r * gradient(f)[j].subs(B[j],A[j])\n",
        "      if (abs(r*gradient(f)[j].subs(B[j],A[j])) < tol):\n",
        "        cnt += 1\n",
        "\n",
        "    if (cnt==n):\n",
        "      return A  \n",
        " \n",
        "print(GD(f,r))"
      ],
      "execution_count": 3,
      "outputs": [
        {
          "output_type": "stream",
          "text": [
            "n: 3\n",
            "f: (x1-2)**2 + (x2-5)**2 + (x3+2)**3\n",
            "\n",
            "stepsize: 0.01\n",
            "tolerance: 0.00001\n",
            "\n",
            "initial value\n",
            "x1: 0\n",
            "x2: 2\n",
            "x3: 0\n",
            "\n",
            "[1.99999999999999, 4.99999999999998, -1.98174910415939]\n"
          ],
          "name": "stdout"
        }
      ]
    }
  ]
}