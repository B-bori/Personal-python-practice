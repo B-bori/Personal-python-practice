{
  "nbformat": 4,
  "nbformat_minor": 0,
  "metadata": {
    "colab": {
      "name": "Finding Prime number.ipynb",
      "provenance": [],
      "authorship_tag": "ABX9TyPnk+CQ0Egny+KZq2QFUq6W",
      "include_colab_link": true
    },
    "kernelspec": {
      "name": "python3",
      "display_name": "Python 3"
    }
  },
  "cells": [
    {
      "cell_type": "markdown",
      "metadata": {
        "id": "view-in-github",
        "colab_type": "text"
      },
      "source": [
        "<a href=\"https://colab.research.google.com/github/B-bori/Personal-python-practice/blob/master/Finding_Prime_number.ipynb\" target=\"_parent\"><img src=\"https://colab.research.google.com/assets/colab-badge.svg\" alt=\"Open In Colab\"/></a>"
      ]
    },
    {
      "cell_type": "code",
      "metadata": {
        "id": "ZM3MUC4zwQAy",
        "colab_type": "code",
        "colab": {}
      },
      "source": [
        "def prime_chk(x):\n",
        "  chk=0\n",
        "  if(x==1):\n",
        "    return 2\n",
        "  else:\n",
        "    for i in range(2,x):\n",
        "      if(x%i==0):\n",
        "        chk+=1\n",
        "        return chk\n",
        "        break\n",
        "    if(chk==0):\n",
        "     return 3 \n",
        "\n",
        "n=int(input())\n",
        "cnt=0\n",
        "for i in range(1,n+1):\n",
        "  if(prime_chk(i)==3):\n",
        "    print(i )\n",
        "    cnt+=1\n",
        "print(cnt)"
      ],
      "execution_count": 0,
      "outputs": []
    }
  ]
}